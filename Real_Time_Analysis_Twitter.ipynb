{
 "cells": [
  {
   "cell_type": "code",
   "execution_count": null,
   "metadata": {
    "collapsed": false
   },
   "outputs": [],
   "source": [
    "# Import all the libraries\n",
    "import tweepy\n",
    "from tweepy import OAuthHandler\n",
    "from tweepy import Stream\n",
    "from tweepy.streaming import StreamListener\n",
    "import socket\n",
    "import json\n",
    "import time\n",
    "\n",
    "\n",
    "# Create a Listner class \n",
    "class TweetsListener(StreamListener):\n",
    "\n",
    "    def __init__(self,csocket):\n",
    "        self.client_socket = csocket\n",
    "        \n",
    "    \n",
    "    def on_data(self, data):\n",
    "        try:\n",
    "            msg = json.loads(data.decode('utf-8')) \n",
    "            self.client_socket.send(data +'\\n')\n",
    "            #print(msg)\n",
    "            #time.sleep(1)\n",
    "            return True\n",
    "        except BaseException as e:\n",
    "            pass\n",
    "            print(\"Error on_data: %s\" % str(e))\n",
    "            #time.sleep(3)\n",
    "        return True\n",
    "\n",
    "    def on_error(self, status):\n",
    "        print(status)\n",
    "        return True\n",
    "\n",
    "def sendData(csocket):\n",
    "    auth = OAuthHandler(consumer_key, consumer_secret)\n",
    "    auth.set_access_token(access_token, access_secret)\n",
    "    twitter_stream = Stream(auth, TweetsListener(csocket))\n",
    "    twitter_stream.filter(track=['a','is','the','I','are','you'])\n",
    "    #twitter_stream.filter(track=['Trump','Iphone','Modi','Attack'])\n",
    "\n"
   ]
  },
  {
   "cell_type": "code",
   "execution_count": null,
   "metadata": {
    "collapsed": true
   },
   "outputs": [],
   "source": [
    "# Create a transmitter class\n",
    "class Transmitter(object):\n",
    "    def __init__(self):\n",
    "        self.consumer_key = 'XXXXXXXXXXXXXXXX'\n",
    "        self.consumer_secret = 'XXXXXXXXXXXXXXXXXXXXXXX'\n",
    "        self.access_token = 'XXXXXXXXXX-XXXXXXXXXXXXX'\n",
    "        self.access_secret = 'XXXXXXXXXXXXXXXXXXX'\n",
    "    def sendData(self,csocket):\n",
    "        auth = OAuthHandler(self.consumer_key, self.consumer_secret)\n",
    "        auth.set_access_token(self.access_token, self.access_secret)\n",
    "        twitter_stream = Stream(auth, TweetsListener(csocket))\n",
    "        twitter_stream.filter(track=['a','is','the','I','are','you'])\n",
    "        #twitter_stream.filter(track=['iphone','Iphone','IPHONE'])\n",
    "        "
   ]
  },
  {
   "cell_type": "code",
   "execution_count": null,
   "metadata": {
    "collapsed": false
   },
   "outputs": [],
   "source": [
    "if __name__ == \"__main__\":\n",
    "    s = socket.socket()         # Create a socket object\n",
    "    host = \"172.31.38.183\"      # Get local machine name\n",
    "    port = 7777\n",
    "    # Reserve a port for your service.\n",
    "    s.bind((host, port))        # Bind to the port\n",
    "\n",
    "    print(\"Listening on port: %s\" % str(port))\n",
    "\n",
    "    s.listen(5)                 # Now wait for client connection.\n",
    "    c, addr = s.accept()     # Establish connection with client.\n",
    "    tr = Transmitter()\n",
    "    print( \"Received request from: \" + str( addr ) )\n",
    "    tr.sendData(c)\n",
    "    \n",
    "   \n",
    "    \n",
    "\n",
    "   "
   ]
  },
  {
   "cell_type": "code",
   "execution_count": null,
   "metadata": {
    "collapsed": true
   },
   "outputs": [],
   "source": []
  },
  {
   "cell_type": "code",
   "execution_count": null,
   "metadata": {
    "collapsed": true
   },
   "outputs": [],
   "source": []
  }
 ],
 "metadata": {
  "kernelspec": {
   "display_name": "Python [default]",
   "language": "python",
   "name": "python2"
  },
  "language_info": {
   "codemirror_mode": {
    "name": "ipython",
    "version": 2
   },
   "file_extension": ".py",
   "mimetype": "text/x-python",
   "name": "python",
   "nbconvert_exporter": "python",
   "pygments_lexer": "ipython2",
   "version": "2.7.13"
  }
 },
 "nbformat": 4,
 "nbformat_minor": 2
}
